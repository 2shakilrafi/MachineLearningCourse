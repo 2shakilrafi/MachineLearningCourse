{
 "cells": [
  {
   "cell_type": "code",
   "execution_count": 1,
   "id": "3340a7a9",
   "metadata": {},
   "outputs": [],
   "source": [
    "import pandas as pd\n",
    "import numpy as np\n",
    "\n",
    "tdata = pd.read_csv(\"tdata2.csv\")"
   ]
  },
  {
   "cell_type": "code",
   "execution_count": 2,
   "id": "dfddba74",
   "metadata": {},
   "outputs": [],
   "source": [
    "pdata = tdata[\"Pickup Census Tract\"]"
   ]
  },
  {
   "cell_type": "code",
   "execution_count": 3,
   "id": "d2f05288",
   "metadata": {},
   "outputs": [],
   "source": [
    "pdata = pdata.dropna()"
   ]
  },
  {
   "cell_type": "code",
   "execution_count": 4,
   "id": "4e1c38bb",
   "metadata": {},
   "outputs": [],
   "source": [
    "pickup_data = pdata.value_counts().reset_index()"
   ]
  },
  {
   "cell_type": "code",
   "execution_count": 5,
   "id": "35965e92",
   "metadata": {},
   "outputs": [
    {
     "data": {
      "text/html": [
       "<div>\n",
       "<style scoped>\n",
       "    .dataframe tbody tr th:only-of-type {\n",
       "        vertical-align: middle;\n",
       "    }\n",
       "\n",
       "    .dataframe tbody tr th {\n",
       "        vertical-align: top;\n",
       "    }\n",
       "\n",
       "    .dataframe thead th {\n",
       "        text-align: right;\n",
       "    }\n",
       "</style>\n",
       "<table border=\"1\" class=\"dataframe\">\n",
       "  <thead>\n",
       "    <tr style=\"text-align: right;\">\n",
       "      <th></th>\n",
       "      <th>index</th>\n",
       "      <th>Pickup Census Tract</th>\n",
       "    </tr>\n",
       "  </thead>\n",
       "  <tbody>\n",
       "    <tr>\n",
       "      <th>0</th>\n",
       "      <td>17031980000</td>\n",
       "      <td>9661</td>\n",
       "    </tr>\n",
       "    <tr>\n",
       "      <th>1</th>\n",
       "      <td>17031839100</td>\n",
       "      <td>9490</td>\n",
       "    </tr>\n",
       "    <tr>\n",
       "      <th>2</th>\n",
       "      <td>17031320100</td>\n",
       "      <td>6997</td>\n",
       "    </tr>\n",
       "    <tr>\n",
       "      <th>3</th>\n",
       "      <td>17031081800</td>\n",
       "      <td>6054</td>\n",
       "    </tr>\n",
       "    <tr>\n",
       "      <th>4</th>\n",
       "      <td>17031833000</td>\n",
       "      <td>5392</td>\n",
       "    </tr>\n",
       "    <tr>\n",
       "      <th>...</th>\n",
       "      <td>...</td>\n",
       "      <td>...</td>\n",
       "    </tr>\n",
       "    <tr>\n",
       "      <th>922</th>\n",
       "      <td>17031770902</td>\n",
       "      <td>1</td>\n",
       "    </tr>\n",
       "    <tr>\n",
       "      <th>923</th>\n",
       "      <td>17031660301</td>\n",
       "      <td>1</td>\n",
       "    </tr>\n",
       "    <tr>\n",
       "      <th>924</th>\n",
       "      <td>17031823903</td>\n",
       "      <td>1</td>\n",
       "    </tr>\n",
       "    <tr>\n",
       "      <th>925</th>\n",
       "      <td>17031815000</td>\n",
       "      <td>1</td>\n",
       "    </tr>\n",
       "    <tr>\n",
       "      <th>926</th>\n",
       "      <td>17031720500</td>\n",
       "      <td>1</td>\n",
       "    </tr>\n",
       "  </tbody>\n",
       "</table>\n",
       "<p>927 rows × 2 columns</p>\n",
       "</div>"
      ],
      "text/plain": [
       "           index  Pickup Census Tract\n",
       "0    17031980000                 9661\n",
       "1    17031839100                 9490\n",
       "2    17031320100                 6997\n",
       "3    17031081800                 6054\n",
       "4    17031833000                 5392\n",
       "..           ...                  ...\n",
       "922  17031770902                    1\n",
       "923  17031660301                    1\n",
       "924  17031823903                    1\n",
       "925  17031815000                    1\n",
       "926  17031720500                    1\n",
       "\n",
       "[927 rows x 2 columns]"
      ]
     },
     "execution_count": 5,
     "metadata": {},
     "output_type": "execute_result"
    }
   ],
   "source": [
    "pickup_data.astype(int)"
   ]
  },
  {
   "cell_type": "code",
   "execution_count": 6,
   "id": "bd3dc141",
   "metadata": {},
   "outputs": [],
   "source": [
    "pickup_data.columns = [\"GEOID\",\"Pickup\"]"
   ]
  },
  {
   "cell_type": "code",
   "execution_count": 7,
   "id": "a05e9385",
   "metadata": {},
   "outputs": [
    {
     "data": {
      "text/html": [
       "<div>\n",
       "<style scoped>\n",
       "    .dataframe tbody tr th:only-of-type {\n",
       "        vertical-align: middle;\n",
       "    }\n",
       "\n",
       "    .dataframe tbody tr th {\n",
       "        vertical-align: top;\n",
       "    }\n",
       "\n",
       "    .dataframe thead th {\n",
       "        text-align: right;\n",
       "    }\n",
       "</style>\n",
       "<table border=\"1\" class=\"dataframe\">\n",
       "  <thead>\n",
       "    <tr style=\"text-align: right;\">\n",
       "      <th></th>\n",
       "      <th>GEOID</th>\n",
       "      <th>Pickup</th>\n",
       "    </tr>\n",
       "  </thead>\n",
       "  <tbody>\n",
       "    <tr>\n",
       "      <th>0</th>\n",
       "      <td>1.703198e+10</td>\n",
       "      <td>9661</td>\n",
       "    </tr>\n",
       "    <tr>\n",
       "      <th>1</th>\n",
       "      <td>1.703184e+10</td>\n",
       "      <td>9490</td>\n",
       "    </tr>\n",
       "    <tr>\n",
       "      <th>2</th>\n",
       "      <td>1.703132e+10</td>\n",
       "      <td>6997</td>\n",
       "    </tr>\n",
       "    <tr>\n",
       "      <th>3</th>\n",
       "      <td>1.703108e+10</td>\n",
       "      <td>6054</td>\n",
       "    </tr>\n",
       "    <tr>\n",
       "      <th>4</th>\n",
       "      <td>1.703183e+10</td>\n",
       "      <td>5392</td>\n",
       "    </tr>\n",
       "    <tr>\n",
       "      <th>...</th>\n",
       "      <td>...</td>\n",
       "      <td>...</td>\n",
       "    </tr>\n",
       "    <tr>\n",
       "      <th>922</th>\n",
       "      <td>1.703177e+10</td>\n",
       "      <td>1</td>\n",
       "    </tr>\n",
       "    <tr>\n",
       "      <th>923</th>\n",
       "      <td>1.703166e+10</td>\n",
       "      <td>1</td>\n",
       "    </tr>\n",
       "    <tr>\n",
       "      <th>924</th>\n",
       "      <td>1.703182e+10</td>\n",
       "      <td>1</td>\n",
       "    </tr>\n",
       "    <tr>\n",
       "      <th>925</th>\n",
       "      <td>1.703182e+10</td>\n",
       "      <td>1</td>\n",
       "    </tr>\n",
       "    <tr>\n",
       "      <th>926</th>\n",
       "      <td>1.703172e+10</td>\n",
       "      <td>1</td>\n",
       "    </tr>\n",
       "  </tbody>\n",
       "</table>\n",
       "<p>927 rows × 2 columns</p>\n",
       "</div>"
      ],
      "text/plain": [
       "            GEOID  Pickup\n",
       "0    1.703198e+10    9661\n",
       "1    1.703184e+10    9490\n",
       "2    1.703132e+10    6997\n",
       "3    1.703108e+10    6054\n",
       "4    1.703183e+10    5392\n",
       "..            ...     ...\n",
       "922  1.703177e+10       1\n",
       "923  1.703166e+10       1\n",
       "924  1.703182e+10       1\n",
       "925  1.703182e+10       1\n",
       "926  1.703172e+10       1\n",
       "\n",
       "[927 rows x 2 columns]"
      ]
     },
     "execution_count": 7,
     "metadata": {},
     "output_type": "execute_result"
    }
   ],
   "source": [
    "pickup_data"
   ]
  },
  {
   "cell_type": "code",
   "execution_count": 8,
   "id": "4ee5875b",
   "metadata": {},
   "outputs": [],
   "source": [
    "import folium\n",
    "import geopandas as gpd\n",
    "\n",
    "geodata = gpd.read_file(\"shapes.geojson\")"
   ]
  },
  {
   "cell_type": "code",
   "execution_count": 9,
   "id": "e8f8530e",
   "metadata": {},
   "outputs": [],
   "source": [
    "geodata = geodata[geodata[\"GEOID\"].notna()]\n",
    "geodata = geodata.astype({\"GEOID\":\"int\"}) "
   ]
  },
  {
   "cell_type": "code",
   "execution_count": 10,
   "id": "17bda8a6",
   "metadata": {},
   "outputs": [],
   "source": [
    "geodata = geodata[geodata[\"GEOID\"].isin(pickup_data[\"GEOID\"])]\n",
    "geodata = geodata.to_crs(epsg = 4326)"
   ]
  },
  {
   "cell_type": "code",
   "execution_count": 13,
   "id": "99aede91",
   "metadata": {},
   "outputs": [
    {
     "data": {
      "text/html": [
       "<div>\n",
       "<style scoped>\n",
       "    .dataframe tbody tr th:only-of-type {\n",
       "        vertical-align: middle;\n",
       "    }\n",
       "\n",
       "    .dataframe tbody tr th {\n",
       "        vertical-align: top;\n",
       "    }\n",
       "\n",
       "    .dataframe thead th {\n",
       "        text-align: right;\n",
       "    }\n",
       "</style>\n",
       "<table border=\"1\" class=\"dataframe\">\n",
       "  <thead>\n",
       "    <tr style=\"text-align: right;\">\n",
       "      <th></th>\n",
       "      <th>STATEFP</th>\n",
       "      <th>COUNTYFP</th>\n",
       "      <th>TRACTCE</th>\n",
       "      <th>BLKGRPCE</th>\n",
       "      <th>AFFGEOID</th>\n",
       "      <th>GEOID</th>\n",
       "      <th>NAME</th>\n",
       "      <th>LSAD</th>\n",
       "      <th>ALAND</th>\n",
       "      <th>AWATER</th>\n",
       "      <th>geometry</th>\n",
       "    </tr>\n",
       "  </thead>\n",
       "  <tbody>\n",
       "  </tbody>\n",
       "</table>\n",
       "</div>"
      ],
      "text/plain": [
       "Empty GeoDataFrame\n",
       "Columns: [STATEFP, COUNTYFP, TRACTCE, BLKGRPCE, AFFGEOID, GEOID, NAME, LSAD, ALAND, AWATER, geometry]\n",
       "Index: []"
      ]
     },
     "execution_count": 13,
     "metadata": {},
     "output_type": "execute_result"
    }
   ],
   "source": [
    "geodata"
   ]
  },
  {
   "cell_type": "code",
   "execution_count": 11,
   "id": "0467adc3",
   "metadata": {},
   "outputs": [
    {
     "data": {
      "text/html": [
       "<div style=\"width:100%;\"><div style=\"position:relative;width:100%;height:0;padding-bottom:60%;\"><span style=\"color:#565656\">Make this Notebook Trusted to load map: File -> Trust Notebook</span><iframe src=\"about:blank\" style=\"position:absolute;width:100%;height:100%;left:0;top:0;border:none !important;\" data-html=%3C%21DOCTYPE%20html%3E%0A%3Chead%3E%20%20%20%20%0A%20%20%20%20%3Cmeta%20http-equiv%3D%22content-type%22%20content%3D%22text/html%3B%20charset%3DUTF-8%22%20/%3E%0A%20%20%20%20%0A%20%20%20%20%20%20%20%20%3Cscript%3E%0A%20%20%20%20%20%20%20%20%20%20%20%20L_NO_TOUCH%20%3D%20false%3B%0A%20%20%20%20%20%20%20%20%20%20%20%20L_DISABLE_3D%20%3D%20false%3B%0A%20%20%20%20%20%20%20%20%3C/script%3E%0A%20%20%20%20%0A%20%20%20%20%3Cstyle%3Ehtml%2C%20body%20%7Bwidth%3A%20100%25%3Bheight%3A%20100%25%3Bmargin%3A%200%3Bpadding%3A%200%3B%7D%3C/style%3E%0A%20%20%20%20%3Cstyle%3E%23map%20%7Bposition%3Aabsolute%3Btop%3A0%3Bbottom%3A0%3Bright%3A0%3Bleft%3A0%3B%7D%3C/style%3E%0A%20%20%20%20%3Cscript%20src%3D%22https%3A//cdn.jsdelivr.net/npm/leaflet%401.6.0/dist/leaflet.js%22%3E%3C/script%3E%0A%20%20%20%20%3Cscript%20src%3D%22https%3A//code.jquery.com/jquery-1.12.4.min.js%22%3E%3C/script%3E%0A%20%20%20%20%3Cscript%20src%3D%22https%3A//maxcdn.bootstrapcdn.com/bootstrap/3.2.0/js/bootstrap.min.js%22%3E%3C/script%3E%0A%20%20%20%20%3Cscript%20src%3D%22https%3A//cdnjs.cloudflare.com/ajax/libs/Leaflet.awesome-markers/2.0.2/leaflet.awesome-markers.js%22%3E%3C/script%3E%0A%20%20%20%20%3Clink%20rel%3D%22stylesheet%22%20href%3D%22https%3A//cdn.jsdelivr.net/npm/leaflet%401.6.0/dist/leaflet.css%22/%3E%0A%20%20%20%20%3Clink%20rel%3D%22stylesheet%22%20href%3D%22https%3A//maxcdn.bootstrapcdn.com/bootstrap/3.2.0/css/bootstrap.min.css%22/%3E%0A%20%20%20%20%3Clink%20rel%3D%22stylesheet%22%20href%3D%22https%3A//maxcdn.bootstrapcdn.com/bootstrap/3.2.0/css/bootstrap-theme.min.css%22/%3E%0A%20%20%20%20%3Clink%20rel%3D%22stylesheet%22%20href%3D%22https%3A//maxcdn.bootstrapcdn.com/font-awesome/4.6.3/css/font-awesome.min.css%22/%3E%0A%20%20%20%20%3Clink%20rel%3D%22stylesheet%22%20href%3D%22https%3A//cdnjs.cloudflare.com/ajax/libs/Leaflet.awesome-markers/2.0.2/leaflet.awesome-markers.css%22/%3E%0A%20%20%20%20%3Clink%20rel%3D%22stylesheet%22%20href%3D%22https%3A//cdn.jsdelivr.net/gh/python-visualization/folium/folium/templates/leaflet.awesome.rotate.min.css%22/%3E%0A%20%20%20%20%0A%20%20%20%20%20%20%20%20%20%20%20%20%3Cmeta%20name%3D%22viewport%22%20content%3D%22width%3Ddevice-width%2C%0A%20%20%20%20%20%20%20%20%20%20%20%20%20%20%20%20initial-scale%3D1.0%2C%20maximum-scale%3D1.0%2C%20user-scalable%3Dno%22%20/%3E%0A%20%20%20%20%20%20%20%20%20%20%20%20%3Cstyle%3E%0A%20%20%20%20%20%20%20%20%20%20%20%20%20%20%20%20%23map_8b9261bc7bec48f8b5d6e01e38bdf7a0%20%7B%0A%20%20%20%20%20%20%20%20%20%20%20%20%20%20%20%20%20%20%20%20position%3A%20relative%3B%0A%20%20%20%20%20%20%20%20%20%20%20%20%20%20%20%20%20%20%20%20width%3A%20100.0%25%3B%0A%20%20%20%20%20%20%20%20%20%20%20%20%20%20%20%20%20%20%20%20height%3A%20100.0%25%3B%0A%20%20%20%20%20%20%20%20%20%20%20%20%20%20%20%20%20%20%20%20left%3A%200.0%25%3B%0A%20%20%20%20%20%20%20%20%20%20%20%20%20%20%20%20%20%20%20%20top%3A%200.0%25%3B%0A%20%20%20%20%20%20%20%20%20%20%20%20%20%20%20%20%7D%0A%20%20%20%20%20%20%20%20%20%20%20%20%3C/style%3E%0A%20%20%20%20%20%20%20%20%0A%3C/head%3E%0A%3Cbody%3E%20%20%20%20%0A%20%20%20%20%0A%20%20%20%20%20%20%20%20%20%20%20%20%3Cdiv%20class%3D%22folium-map%22%20id%3D%22map_8b9261bc7bec48f8b5d6e01e38bdf7a0%22%20%3E%3C/div%3E%0A%20%20%20%20%20%20%20%20%0A%3C/body%3E%0A%3Cscript%3E%20%20%20%20%0A%20%20%20%20%0A%20%20%20%20%20%20%20%20%20%20%20%20var%20map_8b9261bc7bec48f8b5d6e01e38bdf7a0%20%3D%20L.map%28%0A%20%20%20%20%20%20%20%20%20%20%20%20%20%20%20%20%22map_8b9261bc7bec48f8b5d6e01e38bdf7a0%22%2C%0A%20%20%20%20%20%20%20%20%20%20%20%20%20%20%20%20%7B%0A%20%20%20%20%20%20%20%20%20%20%20%20%20%20%20%20%20%20%20%20center%3A%20%5B41.8%2C%20-87.6%5D%2C%0A%20%20%20%20%20%20%20%20%20%20%20%20%20%20%20%20%20%20%20%20crs%3A%20L.CRS.EPSG3857%2C%0A%20%20%20%20%20%20%20%20%20%20%20%20%20%20%20%20%20%20%20%20zoom%3A%2010%2C%0A%20%20%20%20%20%20%20%20%20%20%20%20%20%20%20%20%20%20%20%20zoomControl%3A%20true%2C%0A%20%20%20%20%20%20%20%20%20%20%20%20%20%20%20%20%20%20%20%20preferCanvas%3A%20false%2C%0A%20%20%20%20%20%20%20%20%20%20%20%20%20%20%20%20%7D%0A%20%20%20%20%20%20%20%20%20%20%20%20%29%3B%0A%0A%20%20%20%20%20%20%20%20%20%20%20%20%0A%0A%20%20%20%20%20%20%20%20%0A%20%20%20%20%0A%20%20%20%20%20%20%20%20%20%20%20%20var%20tile_layer_9ca7ffc622af4760942aa167a20ceea7%20%3D%20L.tileLayer%28%0A%20%20%20%20%20%20%20%20%20%20%20%20%20%20%20%20%22https%3A//%7Bs%7D.tile.openstreetmap.org/%7Bz%7D/%7Bx%7D/%7By%7D.png%22%2C%0A%20%20%20%20%20%20%20%20%20%20%20%20%20%20%20%20%7B%22attribution%22%3A%20%22Data%20by%20%5Cu0026copy%3B%20%5Cu003ca%20href%3D%5C%22http%3A//openstreetmap.org%5C%22%5Cu003eOpenStreetMap%5Cu003c/a%5Cu003e%2C%20under%20%5Cu003ca%20href%3D%5C%22http%3A//www.openstreetmap.org/copyright%5C%22%5Cu003eODbL%5Cu003c/a%5Cu003e.%22%2C%20%22detectRetina%22%3A%20false%2C%20%22maxNativeZoom%22%3A%2018%2C%20%22maxZoom%22%3A%2018%2C%20%22minZoom%22%3A%200%2C%20%22noWrap%22%3A%20false%2C%20%22opacity%22%3A%201%2C%20%22subdomains%22%3A%20%22abc%22%2C%20%22tms%22%3A%20false%7D%0A%20%20%20%20%20%20%20%20%20%20%20%20%29.addTo%28map_8b9261bc7bec48f8b5d6e01e38bdf7a0%29%3B%0A%20%20%20%20%20%20%20%20%0A%3C/script%3E onload=\"this.contentDocument.open();this.contentDocument.write(    decodeURIComponent(this.getAttribute('data-html')));this.contentDocument.close();\" allowfullscreen webkitallowfullscreen mozallowfullscreen></iframe></div></div>"
      ],
      "text/plain": [
       "<folium.folium.Map at 0x284456280>"
      ]
     },
     "execution_count": 11,
     "metadata": {},
     "output_type": "execute_result"
    }
   ],
   "source": [
    "Chicago_Map = folium.Map(location = [41.8,-87.6])\n",
    "Chicago_Map"
   ]
  },
  {
   "cell_type": "code",
   "execution_count": 12,
   "id": "07eb422f",
   "metadata": {},
   "outputs": [
    {
     "ename": "IndexError",
     "evalue": "list index out of range",
     "output_type": "error",
     "traceback": [
      "\u001b[0;31m---------------------------------------------------------------------------\u001b[0m",
      "\u001b[0;31mIndexError\u001b[0m                                Traceback (most recent call last)",
      "\u001b[1;32m/Users/shakilrafi/MachineLearningCourse/Prototyping/Untitled2 (2).ipynb Cell 12'\u001b[0m in \u001b[0;36m<cell line: 1>\u001b[0;34m()\u001b[0m\n\u001b[0;32m----> <a href='vscode-notebook-cell:/Users/shakilrafi/MachineLearningCourse/Prototyping/Untitled2%20%282%29.ipynb#ch0000011?line=0'>1</a>\u001b[0m folium\u001b[39m.\u001b[39;49mChoropleth(\n\u001b[1;32m      <a href='vscode-notebook-cell:/Users/shakilrafi/MachineLearningCourse/Prototyping/Untitled2%20%282%29.ipynb#ch0000011?line=1'>2</a>\u001b[0m     geo_data\u001b[39m=\u001b[39;49mgeodata,\n\u001b[1;32m      <a href='vscode-notebook-cell:/Users/shakilrafi/MachineLearningCourse/Prototyping/Untitled2%20%282%29.ipynb#ch0000011?line=2'>3</a>\u001b[0m     name\u001b[39m=\u001b[39;49m\u001b[39m\"\u001b[39;49m\u001b[39mchoropleth\u001b[39;49m\u001b[39m\"\u001b[39;49m,\n\u001b[1;32m      <a href='vscode-notebook-cell:/Users/shakilrafi/MachineLearningCourse/Prototyping/Untitled2%20%282%29.ipynb#ch0000011?line=3'>4</a>\u001b[0m     data\u001b[39m=\u001b[39;49mpickup_data,\n\u001b[1;32m      <a href='vscode-notebook-cell:/Users/shakilrafi/MachineLearningCourse/Prototyping/Untitled2%20%282%29.ipynb#ch0000011?line=4'>5</a>\u001b[0m     columns\u001b[39m=\u001b[39;49m[\u001b[39m\"\u001b[39;49m\u001b[39mGEOID\u001b[39;49m\u001b[39m\"\u001b[39;49m,\u001b[39m\"\u001b[39;49m\u001b[39mPickup\u001b[39;49m\u001b[39m\"\u001b[39;49m],\n\u001b[1;32m      <a href='vscode-notebook-cell:/Users/shakilrafi/MachineLearningCourse/Prototyping/Untitled2%20%282%29.ipynb#ch0000011?line=5'>6</a>\u001b[0m \u001b[39m#     threshold_scale = [0,1000,5000,10000,20000,50000,80000,100000],\u001b[39;49;00m\n\u001b[1;32m      <a href='vscode-notebook-cell:/Users/shakilrafi/MachineLearningCourse/Prototyping/Untitled2%20%282%29.ipynb#ch0000011?line=6'>7</a>\u001b[0m     key_on\u001b[39m=\u001b[39;49m\u001b[39m\"\u001b[39;49m\u001b[39mfeature.properties.GEOID\u001b[39;49m\u001b[39m\"\u001b[39;49m,\n\u001b[1;32m      <a href='vscode-notebook-cell:/Users/shakilrafi/MachineLearningCourse/Prototyping/Untitled2%20%282%29.ipynb#ch0000011?line=7'>8</a>\u001b[0m     fill_color\u001b[39m=\u001b[39;49m\u001b[39m\"\u001b[39;49m\u001b[39mBuPu\u001b[39;49m\u001b[39m\"\u001b[39;49m,\n\u001b[1;32m      <a href='vscode-notebook-cell:/Users/shakilrafi/MachineLearningCourse/Prototyping/Untitled2%20%282%29.ipynb#ch0000011?line=8'>9</a>\u001b[0m     fill_opacity\u001b[39m=\u001b[39;49m\u001b[39m0.7\u001b[39;49m,\n\u001b[1;32m     <a href='vscode-notebook-cell:/Users/shakilrafi/MachineLearningCourse/Prototyping/Untitled2%20%282%29.ipynb#ch0000011?line=9'>10</a>\u001b[0m     line_opacity\u001b[39m=\u001b[39;49m\u001b[39m.1\u001b[39;49m,\n\u001b[1;32m     <a href='vscode-notebook-cell:/Users/shakilrafi/MachineLearningCourse/Prototyping/Untitled2%20%282%29.ipynb#ch0000011?line=10'>11</a>\u001b[0m     legend_name\u001b[39m=\u001b[39;49m\u001b[39m\"\u001b[39;49m\u001b[39mPickups by Census Tract\u001b[39;49m\u001b[39m\"\u001b[39;49m,\n\u001b[1;32m     <a href='vscode-notebook-cell:/Users/shakilrafi/MachineLearningCourse/Prototyping/Untitled2%20%282%29.ipynb#ch0000011?line=11'>12</a>\u001b[0m )\u001b[39m.\u001b[39madd_to(Chicago_Map)\n\u001b[1;32m     <a href='vscode-notebook-cell:/Users/shakilrafi/MachineLearningCourse/Prototyping/Untitled2%20%282%29.ipynb#ch0000011?line=13'>14</a>\u001b[0m folium\u001b[39m.\u001b[39mLayerControl()\u001b[39m.\u001b[39madd_to(Chicago_Map)\n\u001b[1;32m     <a href='vscode-notebook-cell:/Users/shakilrafi/MachineLearningCourse/Prototyping/Untitled2%20%282%29.ipynb#ch0000011?line=16'>17</a>\u001b[0m Chicago_Map\n",
      "File \u001b[0;32m~/miniconda3/lib/python3.8/site-packages/folium/features.py:1289\u001b[0m, in \u001b[0;36mChoropleth.__init__\u001b[0;34m(self, geo_data, data, columns, key_on, bins, fill_color, nan_fill_color, fill_opacity, nan_fill_opacity, line_color, line_weight, line_opacity, name, legend_name, overlay, control, show, topojson, smooth_factor, highlight, **kwargs)\u001b[0m\n\u001b[1;32m   <a href='file:///Users/shakilrafi/miniconda3/lib/python3.8/site-packages/folium/features.py?line=1282'>1283</a>\u001b[0m     \u001b[39mself\u001b[39m\u001b[39m.\u001b[39mgeojson \u001b[39m=\u001b[39m TopoJson(\n\u001b[1;32m   <a href='file:///Users/shakilrafi/miniconda3/lib/python3.8/site-packages/folium/features.py?line=1283'>1284</a>\u001b[0m         geo_data,\n\u001b[1;32m   <a href='file:///Users/shakilrafi/miniconda3/lib/python3.8/site-packages/folium/features.py?line=1284'>1285</a>\u001b[0m         topojson,\n\u001b[1;32m   <a href='file:///Users/shakilrafi/miniconda3/lib/python3.8/site-packages/folium/features.py?line=1285'>1286</a>\u001b[0m         style_function\u001b[39m=\u001b[39mstyle_function,\n\u001b[1;32m   <a href='file:///Users/shakilrafi/miniconda3/lib/python3.8/site-packages/folium/features.py?line=1286'>1287</a>\u001b[0m         smooth_factor\u001b[39m=\u001b[39msmooth_factor)\n\u001b[1;32m   <a href='file:///Users/shakilrafi/miniconda3/lib/python3.8/site-packages/folium/features.py?line=1287'>1288</a>\u001b[0m \u001b[39melse\u001b[39;00m:\n\u001b[0;32m-> <a href='file:///Users/shakilrafi/miniconda3/lib/python3.8/site-packages/folium/features.py?line=1288'>1289</a>\u001b[0m     \u001b[39mself\u001b[39m\u001b[39m.\u001b[39mgeojson \u001b[39m=\u001b[39m GeoJson(\n\u001b[1;32m   <a href='file:///Users/shakilrafi/miniconda3/lib/python3.8/site-packages/folium/features.py?line=1289'>1290</a>\u001b[0m         geo_data,\n\u001b[1;32m   <a href='file:///Users/shakilrafi/miniconda3/lib/python3.8/site-packages/folium/features.py?line=1290'>1291</a>\u001b[0m         style_function\u001b[39m=\u001b[39;49mstyle_function,\n\u001b[1;32m   <a href='file:///Users/shakilrafi/miniconda3/lib/python3.8/site-packages/folium/features.py?line=1291'>1292</a>\u001b[0m         smooth_factor\u001b[39m=\u001b[39;49msmooth_factor,\n\u001b[1;32m   <a href='file:///Users/shakilrafi/miniconda3/lib/python3.8/site-packages/folium/features.py?line=1292'>1293</a>\u001b[0m         highlight_function\u001b[39m=\u001b[39;49mhighlight_function \u001b[39mif\u001b[39;49;00m highlight \u001b[39melse\u001b[39;49;00m \u001b[39mNone\u001b[39;49;00m)\n\u001b[1;32m   <a href='file:///Users/shakilrafi/miniconda3/lib/python3.8/site-packages/folium/features.py?line=1294'>1295</a>\u001b[0m \u001b[39mself\u001b[39m\u001b[39m.\u001b[39madd_child(\u001b[39mself\u001b[39m\u001b[39m.\u001b[39mgeojson)\n\u001b[1;32m   <a href='file:///Users/shakilrafi/miniconda3/lib/python3.8/site-packages/folium/features.py?line=1295'>1296</a>\u001b[0m \u001b[39mif\u001b[39;00m \u001b[39mself\u001b[39m\u001b[39m.\u001b[39mcolor_scale:\n",
      "File \u001b[0;32m~/miniconda3/lib/python3.8/site-packages/folium/features.py:504\u001b[0m, in \u001b[0;36mGeoJson.__init__\u001b[0;34m(self, data, style_function, highlight_function, name, overlay, control, show, smooth_factor, tooltip, embed, popup, zoom_on_click, marker)\u001b[0m\n\u001b[1;32m    <a href='file:///Users/shakilrafi/miniconda3/lib/python3.8/site-packages/folium/features.py?line=501'>502</a>\u001b[0m \u001b[39mself\u001b[39m\u001b[39m.\u001b[39mconvert_to_feature_collection()\n\u001b[1;32m    <a href='file:///Users/shakilrafi/miniconda3/lib/python3.8/site-packages/folium/features.py?line=502'>503</a>\u001b[0m \u001b[39mif\u001b[39;00m \u001b[39mself\u001b[39m\u001b[39m.\u001b[39mstyle:\n\u001b[0;32m--> <a href='file:///Users/shakilrafi/miniconda3/lib/python3.8/site-packages/folium/features.py?line=503'>504</a>\u001b[0m     \u001b[39mself\u001b[39;49m\u001b[39m.\u001b[39;49m_validate_function(style_function, \u001b[39m'\u001b[39;49m\u001b[39mstyle_function\u001b[39;49m\u001b[39m'\u001b[39;49m)\n\u001b[1;32m    <a href='file:///Users/shakilrafi/miniconda3/lib/python3.8/site-packages/folium/features.py?line=504'>505</a>\u001b[0m     \u001b[39mself\u001b[39m\u001b[39m.\u001b[39mstyle_function \u001b[39m=\u001b[39m style_function\n\u001b[1;32m    <a href='file:///Users/shakilrafi/miniconda3/lib/python3.8/site-packages/folium/features.py?line=505'>506</a>\u001b[0m     \u001b[39mself\u001b[39m\u001b[39m.\u001b[39mstyle_map \u001b[39m=\u001b[39m {}\n",
      "File \u001b[0;32m~/miniconda3/lib/python3.8/site-packages/folium/features.py:568\u001b[0m, in \u001b[0;36mGeoJson._validate_function\u001b[0;34m(self, func, name)\u001b[0m\n\u001b[1;32m    <a href='file:///Users/shakilrafi/miniconda3/lib/python3.8/site-packages/folium/features.py?line=562'>563</a>\u001b[0m \u001b[39mdef\u001b[39;00m \u001b[39m_validate_function\u001b[39m(\u001b[39mself\u001b[39m, func, name):\n\u001b[1;32m    <a href='file:///Users/shakilrafi/miniconda3/lib/python3.8/site-packages/folium/features.py?line=563'>564</a>\u001b[0m     \u001b[39m\"\"\"\u001b[39;00m\n\u001b[1;32m    <a href='file:///Users/shakilrafi/miniconda3/lib/python3.8/site-packages/folium/features.py?line=564'>565</a>\u001b[0m \u001b[39m    Tests `self.style_function` and `self.highlight_function` to ensure\u001b[39;00m\n\u001b[1;32m    <a href='file:///Users/shakilrafi/miniconda3/lib/python3.8/site-packages/folium/features.py?line=565'>566</a>\u001b[0m \u001b[39m    they are functions returning dictionaries.\u001b[39;00m\n\u001b[1;32m    <a href='file:///Users/shakilrafi/miniconda3/lib/python3.8/site-packages/folium/features.py?line=566'>567</a>\u001b[0m \u001b[39m    \"\"\"\u001b[39;00m\n\u001b[0;32m--> <a href='file:///Users/shakilrafi/miniconda3/lib/python3.8/site-packages/folium/features.py?line=567'>568</a>\u001b[0m     test_feature \u001b[39m=\u001b[39m \u001b[39mself\u001b[39;49m\u001b[39m.\u001b[39;49mdata[\u001b[39m'\u001b[39;49m\u001b[39mfeatures\u001b[39;49m\u001b[39m'\u001b[39;49m][\u001b[39m0\u001b[39;49m]\n\u001b[1;32m    <a href='file:///Users/shakilrafi/miniconda3/lib/python3.8/site-packages/folium/features.py?line=568'>569</a>\u001b[0m     \u001b[39mif\u001b[39;00m \u001b[39mnot\u001b[39;00m callable(func) \u001b[39mor\u001b[39;00m \u001b[39mnot\u001b[39;00m \u001b[39misinstance\u001b[39m(func(test_feature), \u001b[39mdict\u001b[39m):\n\u001b[1;32m    <a href='file:///Users/shakilrafi/miniconda3/lib/python3.8/site-packages/folium/features.py?line=569'>570</a>\u001b[0m         \u001b[39mraise\u001b[39;00m \u001b[39mValueError\u001b[39;00m(\u001b[39m'\u001b[39m\u001b[39m{}\u001b[39;00m\u001b[39m should be a function that accepts items from \u001b[39m\u001b[39m'\u001b[39m\n\u001b[1;32m    <a href='file:///Users/shakilrafi/miniconda3/lib/python3.8/site-packages/folium/features.py?line=570'>571</a>\u001b[0m                          \u001b[39m'\u001b[39m\u001b[39mdata[\u001b[39m\u001b[39m\\'\u001b[39;00m\u001b[39mfeatures\u001b[39m\u001b[39m\\'\u001b[39;00m\u001b[39m] and returns a dictionary.\u001b[39m\u001b[39m'\u001b[39m\n\u001b[1;32m    <a href='file:///Users/shakilrafi/miniconda3/lib/python3.8/site-packages/folium/features.py?line=571'>572</a>\u001b[0m                          \u001b[39m.\u001b[39mformat(name))\n",
      "\u001b[0;31mIndexError\u001b[0m: list index out of range"
     ]
    }
   ],
   "source": [
    "folium.Choropleth(\n",
    "    geo_data=geodata,\n",
    "    name=\"choropleth\",\n",
    "    data=pickup_data,\n",
    "    columns=[\"GEOID\",\"Pickup\"],\n",
    "#     threshold_scale = [0,1000,5000,10000,20000,50000,80000,100000],\n",
    "    key_on=\"feature.properties.GEOID\",\n",
    "    fill_color=\"BuPu\",\n",
    "    fill_opacity=0.7,\n",
    "    line_opacity=.1,\n",
    "    legend_name=\"Pickups by Census Tract\",\n",
    ").add_to(Chicago_Map)\n",
    "\n",
    "folium.LayerControl().add_to(Chicago_Map)\n",
    "\n",
    "\n",
    "Chicago_Map"
   ]
  },
  {
   "cell_type": "code",
   "execution_count": null,
   "id": "0040c527",
   "metadata": {},
   "outputs": [],
   "source": [
    "median_income = pd.read_csv(\"MedianIncome.csv\")"
   ]
  },
  {
   "cell_type": "code",
   "execution_count": null,
   "id": "3be5d971",
   "metadata": {},
   "outputs": [
    {
     "data": {
      "text/html": [
       "<div>\n",
       "<style scoped>\n",
       "    .dataframe tbody tr th:only-of-type {\n",
       "        vertical-align: middle;\n",
       "    }\n",
       "\n",
       "    .dataframe tbody tr th {\n",
       "        vertical-align: top;\n",
       "    }\n",
       "\n",
       "    .dataframe thead th {\n",
       "        text-align: right;\n",
       "    }\n",
       "</style>\n",
       "<table border=\"1\" class=\"dataframe\">\n",
       "  <thead>\n",
       "    <tr style=\"text-align: right;\">\n",
       "      <th></th>\n",
       "      <th>GEO_ID</th>\n",
       "      <th>NAME</th>\n",
       "      <th>S1903_C03_015E</th>\n",
       "    </tr>\n",
       "  </thead>\n",
       "  <tbody>\n",
       "    <tr>\n",
       "      <th>0</th>\n",
       "      <td>id</td>\n",
       "      <td>Geographic Area Name</td>\n",
       "      <td>Estimate!!Median income (dollars)!!FAMILIES!!F...</td>\n",
       "    </tr>\n",
       "    <tr>\n",
       "      <th>1</th>\n",
       "      <td>1400000US17031010100</td>\n",
       "      <td>Census Tract 101, Cook County, Illinois</td>\n",
       "      <td>63138</td>\n",
       "    </tr>\n",
       "    <tr>\n",
       "      <th>2</th>\n",
       "      <td>1400000US17031010201</td>\n",
       "      <td>Census Tract 102.01, Cook County, Illinois</td>\n",
       "      <td>41125</td>\n",
       "    </tr>\n",
       "    <tr>\n",
       "      <th>3</th>\n",
       "      <td>1400000US17031010202</td>\n",
       "      <td>Census Tract 102.02, Cook County, Illinois</td>\n",
       "      <td>45236</td>\n",
       "    </tr>\n",
       "    <tr>\n",
       "      <th>4</th>\n",
       "      <td>1400000US17031010300</td>\n",
       "      <td>Census Tract 103, Cook County, Illinois</td>\n",
       "      <td>72917</td>\n",
       "    </tr>\n",
       "  </tbody>\n",
       "</table>\n",
       "</div>"
      ],
      "text/plain": [
       "                 GEO_ID                                        NAME  \\\n",
       "0                    id                        Geographic Area Name   \n",
       "1  1400000US17031010100     Census Tract 101, Cook County, Illinois   \n",
       "2  1400000US17031010201  Census Tract 102.01, Cook County, Illinois   \n",
       "3  1400000US17031010202  Census Tract 102.02, Cook County, Illinois   \n",
       "4  1400000US17031010300     Census Tract 103, Cook County, Illinois   \n",
       "\n",
       "                                      S1903_C03_015E  \n",
       "0  Estimate!!Median income (dollars)!!FAMILIES!!F...  \n",
       "1                                              63138  \n",
       "2                                              41125  \n",
       "3                                              45236  \n",
       "4                                              72917  "
      ]
     },
     "execution_count": 84,
     "metadata": {},
     "output_type": "execute_result"
    }
   ],
   "source": [
    "median_income.head()"
   ]
  },
  {
   "cell_type": "code",
   "execution_count": null,
   "id": "fabfe828",
   "metadata": {},
   "outputs": [],
   "source": [
    "median_income = median_income.drop([0])"
   ]
  },
  {
   "cell_type": "code",
   "execution_count": null,
   "id": "c082de53",
   "metadata": {},
   "outputs": [
    {
     "data": {
      "text/html": [
       "<div>\n",
       "<style scoped>\n",
       "    .dataframe tbody tr th:only-of-type {\n",
       "        vertical-align: middle;\n",
       "    }\n",
       "\n",
       "    .dataframe tbody tr th {\n",
       "        vertical-align: top;\n",
       "    }\n",
       "\n",
       "    .dataframe thead th {\n",
       "        text-align: right;\n",
       "    }\n",
       "</style>\n",
       "<table border=\"1\" class=\"dataframe\">\n",
       "  <thead>\n",
       "    <tr style=\"text-align: right;\">\n",
       "      <th></th>\n",
       "      <th>GEO_ID</th>\n",
       "      <th>NAME</th>\n",
       "      <th>S1903_C03_015E</th>\n",
       "    </tr>\n",
       "  </thead>\n",
       "  <tbody>\n",
       "    <tr>\n",
       "      <th>1</th>\n",
       "      <td>1400000US17031010100</td>\n",
       "      <td>Census Tract 101, Cook County, Illinois</td>\n",
       "      <td>63138</td>\n",
       "    </tr>\n",
       "    <tr>\n",
       "      <th>2</th>\n",
       "      <td>1400000US17031010201</td>\n",
       "      <td>Census Tract 102.01, Cook County, Illinois</td>\n",
       "      <td>41125</td>\n",
       "    </tr>\n",
       "    <tr>\n",
       "      <th>3</th>\n",
       "      <td>1400000US17031010202</td>\n",
       "      <td>Census Tract 102.02, Cook County, Illinois</td>\n",
       "      <td>45236</td>\n",
       "    </tr>\n",
       "    <tr>\n",
       "      <th>4</th>\n",
       "      <td>1400000US17031010300</td>\n",
       "      <td>Census Tract 103, Cook County, Illinois</td>\n",
       "      <td>72917</td>\n",
       "    </tr>\n",
       "    <tr>\n",
       "      <th>5</th>\n",
       "      <td>1400000US17031010400</td>\n",
       "      <td>Census Tract 104, Cook County, Illinois</td>\n",
       "      <td>58438</td>\n",
       "    </tr>\n",
       "    <tr>\n",
       "      <th>...</th>\n",
       "      <td>...</td>\n",
       "      <td>...</td>\n",
       "      <td>...</td>\n",
       "    </tr>\n",
       "    <tr>\n",
       "      <th>1317</th>\n",
       "      <td>1400000US17031980000</td>\n",
       "      <td>Census Tract 9800, Cook County, Illinois</td>\n",
       "      <td>-</td>\n",
       "    </tr>\n",
       "    <tr>\n",
       "      <th>1318</th>\n",
       "      <td>1400000US17031980100</td>\n",
       "      <td>Census Tract 9801, Cook County, Illinois</td>\n",
       "      <td>-</td>\n",
       "    </tr>\n",
       "    <tr>\n",
       "      <th>1319</th>\n",
       "      <td>1400000US17031990000</td>\n",
       "      <td>Census Tract 9900, Cook County, Illinois</td>\n",
       "      <td>-</td>\n",
       "    </tr>\n",
       "    <tr>\n",
       "      <th>1320</th>\n",
       "      <td>0100000US</td>\n",
       "      <td>United States</td>\n",
       "      <td>77263</td>\n",
       "    </tr>\n",
       "    <tr>\n",
       "      <th>1321</th>\n",
       "      <td>0400000US17</td>\n",
       "      <td>Illinois</td>\n",
       "      <td>83279</td>\n",
       "    </tr>\n",
       "  </tbody>\n",
       "</table>\n",
       "<p>1321 rows × 3 columns</p>\n",
       "</div>"
      ],
      "text/plain": [
       "                    GEO_ID                                        NAME  \\\n",
       "1     1400000US17031010100     Census Tract 101, Cook County, Illinois   \n",
       "2     1400000US17031010201  Census Tract 102.01, Cook County, Illinois   \n",
       "3     1400000US17031010202  Census Tract 102.02, Cook County, Illinois   \n",
       "4     1400000US17031010300     Census Tract 103, Cook County, Illinois   \n",
       "5     1400000US17031010400     Census Tract 104, Cook County, Illinois   \n",
       "...                    ...                                         ...   \n",
       "1317  1400000US17031980000    Census Tract 9800, Cook County, Illinois   \n",
       "1318  1400000US17031980100    Census Tract 9801, Cook County, Illinois   \n",
       "1319  1400000US17031990000    Census Tract 9900, Cook County, Illinois   \n",
       "1320             0100000US                               United States   \n",
       "1321           0400000US17                                    Illinois   \n",
       "\n",
       "     S1903_C03_015E  \n",
       "1             63138  \n",
       "2             41125  \n",
       "3             45236  \n",
       "4             72917  \n",
       "5             58438  \n",
       "...             ...  \n",
       "1317              -  \n",
       "1318              -  \n",
       "1319              -  \n",
       "1320          77263  \n",
       "1321          83279  \n",
       "\n",
       "[1321 rows x 3 columns]"
      ]
     },
     "execution_count": 86,
     "metadata": {},
     "output_type": "execute_result"
    }
   ],
   "source": [
    "median_income.dropna()"
   ]
  },
  {
   "cell_type": "code",
   "execution_count": null,
   "id": "2216174a",
   "metadata": {},
   "outputs": [
    {
     "data": {
      "text/plain": [
       "'S1903_C03_015E'"
      ]
     },
     "execution_count": 87,
     "metadata": {},
     "output_type": "execute_result"
    }
   ],
   "source": [
    "median_income.columns[2]"
   ]
  },
  {
   "cell_type": "code",
   "execution_count": null,
   "id": "dccf9ab5",
   "metadata": {},
   "outputs": [],
   "source": [
    "median_income[\"GEO_ID\"] = median_income[\"GEO_ID\"].str[9:]"
   ]
  },
  {
   "cell_type": "code",
   "execution_count": null,
   "id": "96d85630",
   "metadata": {},
   "outputs": [
    {
     "data": {
      "text/html": [
       "<div>\n",
       "<style scoped>\n",
       "    .dataframe tbody tr th:only-of-type {\n",
       "        vertical-align: middle;\n",
       "    }\n",
       "\n",
       "    .dataframe tbody tr th {\n",
       "        vertical-align: top;\n",
       "    }\n",
       "\n",
       "    .dataframe thead th {\n",
       "        text-align: right;\n",
       "    }\n",
       "</style>\n",
       "<table border=\"1\" class=\"dataframe\">\n",
       "  <thead>\n",
       "    <tr style=\"text-align: right;\">\n",
       "      <th></th>\n",
       "      <th>GEO_ID</th>\n",
       "      <th>NAME</th>\n",
       "      <th>S1903_C03_015E</th>\n",
       "    </tr>\n",
       "  </thead>\n",
       "  <tbody>\n",
       "    <tr>\n",
       "      <th>1</th>\n",
       "      <td>17031010100</td>\n",
       "      <td>Census Tract 101, Cook County, Illinois</td>\n",
       "      <td>63138</td>\n",
       "    </tr>\n",
       "    <tr>\n",
       "      <th>2</th>\n",
       "      <td>17031010201</td>\n",
       "      <td>Census Tract 102.01, Cook County, Illinois</td>\n",
       "      <td>41125</td>\n",
       "    </tr>\n",
       "    <tr>\n",
       "      <th>3</th>\n",
       "      <td>17031010202</td>\n",
       "      <td>Census Tract 102.02, Cook County, Illinois</td>\n",
       "      <td>45236</td>\n",
       "    </tr>\n",
       "    <tr>\n",
       "      <th>4</th>\n",
       "      <td>17031010300</td>\n",
       "      <td>Census Tract 103, Cook County, Illinois</td>\n",
       "      <td>72917</td>\n",
       "    </tr>\n",
       "    <tr>\n",
       "      <th>5</th>\n",
       "      <td>17031010400</td>\n",
       "      <td>Census Tract 104, Cook County, Illinois</td>\n",
       "      <td>58438</td>\n",
       "    </tr>\n",
       "  </tbody>\n",
       "</table>\n",
       "</div>"
      ],
      "text/plain": [
       "        GEO_ID                                        NAME S1903_C03_015E\n",
       "1  17031010100     Census Tract 101, Cook County, Illinois          63138\n",
       "2  17031010201  Census Tract 102.01, Cook County, Illinois          41125\n",
       "3  17031010202  Census Tract 102.02, Cook County, Illinois          45236\n",
       "4  17031010300     Census Tract 103, Cook County, Illinois          72917\n",
       "5  17031010400     Census Tract 104, Cook County, Illinois          58438"
      ]
     },
     "execution_count": 91,
     "metadata": {},
     "output_type": "execute_result"
    }
   ],
   "source": [
    "median_income.head()"
   ]
  },
  {
   "cell_type": "code",
   "execution_count": null,
   "id": "16956cbb",
   "metadata": {},
   "outputs": [],
   "source": []
  }
 ],
 "metadata": {
  "kernelspec": {
   "display_name": "Python 3 (ipykernel)",
   "language": "python",
   "name": "python3"
  },
  "language_info": {
   "codemirror_mode": {
    "name": "ipython",
    "version": 3
   },
   "file_extension": ".py",
   "mimetype": "text/x-python",
   "name": "python",
   "nbconvert_exporter": "python",
   "pygments_lexer": "ipython3",
   "version": "3.8.11"
  }
 },
 "nbformat": 4,
 "nbformat_minor": 5
}
